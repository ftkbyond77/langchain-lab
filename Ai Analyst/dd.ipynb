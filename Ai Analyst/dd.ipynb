{
 "cells": [
  {
   "cell_type": "code",
   "execution_count": 1,
   "id": "9f325306",
   "metadata": {},
   "outputs": [],
   "source": [
    "import random\n",
    "from datetime import datetime, timedelta\n",
    "import pymysql"
   ]
  },
  {
   "cell_type": "code",
   "execution_count": 8,
   "id": "dff35e99",
   "metadata": {},
   "outputs": [],
   "source": [
    "# MySQL Connecting\n",
    "conn = pymysql.connect(\n",
    "    host='localhost',\n",
    "    user='root',\n",
    "    password='zazasomening488',\n",
    "    database='lang_product_test',\n",
    "    charset='utf8mb4',\n",
    "    cursorclass=pymysql.cursors.DictCursor\n",
    ")"
   ]
  },
  {
   "cell_type": "code",
   "execution_count": 3,
   "id": "d010b1c3",
   "metadata": {},
   "outputs": [],
   "source": [
    "product_ids = list(range(1, 11))  # limit 10\n",
    "start_date = datetime(2025, 6, 1)"
   ]
  },
  {
   "cell_type": "code",
   "execution_count": null,
   "id": "3b229774",
   "metadata": {},
   "outputs": [],
   "source": [
    "with conn.cursor() as cursor:\n",
    "    for _ in range(100):  # table 100 r\n",
    "        product_id = random.choice(product_ids)\n",
    "        quantity = random.randint(1, 10)\n",
    "        price = round(random.uniform(5000, 50000), 2)\n",
    "        sale_date = start_date + timedelta(days=random.randint(0, 60))\n",
    "\n",
    "        cursor.execute(\"\"\"\n",
    "            INSERT INTO sales (product_id, quantity, price_per_unit, sale_date)\n",
    "            VALUES (%s, %s, %s, %s)\n",
    "        \"\"\", (product_id, quantity, price, sale_date.strftime('%Y-%m-%d')))\n",
    "\n",
    "    conn.commit()\n",
    "\n",
    "conn.close()\n"
   ]
  },
  {
   "cell_type": "code",
   "execution_count": 9,
   "id": "753da07c",
   "metadata": {},
   "outputs": [
    {
     "name": "stdout",
     "output_type": "stream",
     "text": [
      "{'id': 1, 'product_id': 9, 'quantity': 8, 'price_per_unit': Decimal('36597.62'), 'sale_date': datetime.date(2025, 6, 6)}\n",
      "{'id': 2, 'product_id': 1, 'quantity': 4, 'price_per_unit': Decimal('23335.13'), 'sale_date': datetime.date(2025, 6, 29)}\n",
      "{'id': 3, 'product_id': 8, 'quantity': 6, 'price_per_unit': Decimal('22282.39'), 'sale_date': datetime.date(2025, 6, 23)}\n",
      "{'id': 4, 'product_id': 5, 'quantity': 7, 'price_per_unit': Decimal('17394.10'), 'sale_date': datetime.date(2025, 7, 16)}\n",
      "{'id': 5, 'product_id': 5, 'quantity': 1, 'price_per_unit': Decimal('10128.32'), 'sale_date': datetime.date(2025, 6, 6)}\n",
      "{'id': 6, 'product_id': 10, 'quantity': 4, 'price_per_unit': Decimal('34306.02'), 'sale_date': datetime.date(2025, 6, 12)}\n",
      "{'id': 7, 'product_id': 5, 'quantity': 6, 'price_per_unit': Decimal('18820.17'), 'sale_date': datetime.date(2025, 6, 1)}\n",
      "{'id': 8, 'product_id': 7, 'quantity': 7, 'price_per_unit': Decimal('8700.23'), 'sale_date': datetime.date(2025, 6, 29)}\n",
      "{'id': 9, 'product_id': 6, 'quantity': 10, 'price_per_unit': Decimal('16276.22'), 'sale_date': datetime.date(2025, 7, 9)}\n",
      "{'id': 10, 'product_id': 2, 'quantity': 4, 'price_per_unit': Decimal('44725.77'), 'sale_date': datetime.date(2025, 6, 20)}\n"
     ]
    }
   ],
   "source": [
    "with conn.cursor() as cursor:\n",
    "    cursor.execute(\"SELECT * FROM sales LIMIT 10;\")\n",
    "    results = cursor.fetchall()\n",
    "    for row in results:\n",
    "        print(row)\n",
    "\n",
    "conn.close()"
   ]
  }
 ],
 "metadata": {
  "kernelspec": {
   "display_name": "Python (langch)",
   "language": "python",
   "name": "langch"
  },
  "language_info": {
   "codemirror_mode": {
    "name": "ipython",
    "version": 3
   },
   "file_extension": ".py",
   "mimetype": "text/x-python",
   "name": "python",
   "nbconvert_exporter": "python",
   "pygments_lexer": "ipython3",
   "version": "3.11.4"
  }
 },
 "nbformat": 4,
 "nbformat_minor": 5
}
